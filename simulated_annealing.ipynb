{
  "cells": [
    {
      "cell_type": "markdown",
      "metadata": {
        "id": "view-in-github",
        "colab_type": "text"
      },
      "source": [
        "<a href=\"https://colab.research.google.com/github/Ananthzeke/Optimization-techniques/blob/main/simulated_annealing.ipynb\" target=\"_parent\"><img src=\"https://colab.research.google.com/assets/colab-badge.svg\" alt=\"Open In Colab\"/></a>"
      ]
    },
    {
      "cell_type": "code",
      "execution_count": 56,
      "metadata": {
        "id": "l0wSEhzGZObH"
      },
      "outputs": [],
      "source": [
        "from numpy import asarray,exp\n",
        "from numpy.random import rand,randn,seed,uniform"
      ]
    },
    {
      "cell_type": "code",
      "execution_count": 57,
      "metadata": {
        "id": "Zwwgnssa1J0h"
      },
      "outputs": [],
      "source": [
        "def objective(x):\n",
        "\treturn  (x[0]**2+x[1]-11)**2 +(x[0]+x[1]**2-7)**2"
      ]
    },
    {
      "cell_type": "code",
      "execution_count": 58,
      "metadata": {
        "id": "AyprJz4d0KNj"
      },
      "outputs": [],
      "source": [
        "\n",
        "\n",
        "def simulated_annealing(objective, bounds, n_iterations, step_size, temp):\n",
        "    best =uniform(bounds[0][0],bounds[0][1],2)\n",
        "    best_eval = objective(best)\n",
        "    curr, curr_eval = best, best_eval\n",
        "    best_track = []\n",
        "    for i in range(n_iterations):\n",
        "        candidate = curr + randn(2) * step_size\n",
        "        candidate_eval = objective(candidate)\n",
        "        if candidate_eval < best_eval:\n",
        "            best, best_eval = candidate, candidate_eval\n",
        "            if i%100==0:\n",
        "              print(f'>iteration {i}: f{best} = {best_eval}')\n",
        "            best_track.append(best)\n",
        "        diff = candidate_eval - curr_eval\n",
        "        t = temp / float(i + 1)\n",
        "        metropolis = exp(-diff / t)\n",
        "        if diff < 0 or rand() < metropolis:\n",
        "            curr, curr_eval = candidate, candidate_eval\n",
        "    return best, best_eval,best_track\n",
        "\n"
      ]
    },
    {
      "cell_type": "code",
      "execution_count": 59,
      "metadata": {
        "colab": {
          "base_uri": "https://localhost:8080/"
        },
        "id": "MjVRXbVm129e",
        "outputId": "3f47e6a6-ae17-4716-db07-46324b7da380"
      },
      "outputs": [
        {
          "output_type": "stream",
          "name": "stdout",
          "text": [
            "Starting simulated annealing algorithm\n",
            "\n",
            ">iteration 0: f[2.08458185 3.6005495 ] = 74.10569936877003\n",
            ">iteration 200: f[2.10238232 3.59323978] = 73.14092888539076\n",
            ">iteration 300: f[2.11074557 3.57149442] = 70.71922530018028\n",
            ">iteration 600: f[2.12842921 3.54327844] = 67.59681538280554\n",
            ">iteration 1400: f[2.16837224 3.34690589] = 49.288739099997244\n",
            ">iteration 1500: f[2.17503694 3.3116814 ] = 46.47448927509475\n",
            ">iteration 1600: f[2.18584428 3.26762533] = 43.10617466118025\n",
            ">iteration 1800: f[2.20776673 3.21044587] = 38.91133236740761\n",
            ">iteration 2000: f[2.23633942 3.16415755] = 35.57906196606057\n",
            ">iteration 2500: f[2.29650167 3.05834633] = 28.739154135048395\n",
            ">iteration 2600: f[2.30267142 3.02351642] = 26.903287739112777\n",
            ">iteration 2700: f[2.31436169 2.99810722] = 25.515202646727705\n",
            ">iteration 3000: f[2.36669343 2.89220826] = 20.207367794254914\n",
            ">iteration 3100: f[2.36806389 2.85555159] = 18.841123497178273\n",
            ">iteration 3500: f[2.44910557 2.76687655] = 14.634481873109067\n",
            ">iteration 3600: f[2.46136825 2.7468338 ] = 13.856116686299815\n",
            ">iteration 3700: f[2.49442084 2.72087437] = 12.627168310539108\n",
            ">iteration 3800: f[2.50991342 2.69786516] = 11.785001897568806\n",
            ">iteration 4000: f[2.53547354 2.67378059] = 10.807809694207382\n",
            ">iteration 4400: f[2.59181998 2.58830263] = 8.119479224897356\n",
            ">iteration 4700: f[2.66032142 2.50136443] = 5.695612817951034\n",
            ">iteration 4900: f[2.70922173 2.45122687] = 4.41203009929289\n",
            ">iteration 5000: f[2.72319444 2.42442352] = 3.9083867439336193\n",
            ">iteration 5300: f[2.78570397 2.38032349] = 2.846061607468572\n",
            ">iteration 5800: f[2.82402706 2.29413704] = 1.7157409745882786\n",
            ">iteration 5900: f[2.82305705 2.28029354] = 1.6086940577467452\n",
            ">iteration 6300: f[2.88779417 2.23915483] = 0.9905517244800155\n",
            ">iteration 6400: f[2.90595722 2.21759294] = 0.7925637865852397\n",
            ">iteration 6500: f[2.9083976  2.19547058] = 0.650240782047366\n",
            ">iteration 6600: f[2.9153635  2.17366388] = 0.5167516869535818\n",
            ">iteration 6700: f[2.91531754 2.1504117 ] = 0.4140138750000953\n",
            ">iteration 7100: f[2.94482883 2.13051519] = 0.2731758654209785\n",
            "\n",
            "Simulated annealing completed\n",
            "\n",
            "Best solution: [3.00003735 1.9994453 ]\n",
            "Fitness score of the best solution: 0.00000\n"
          ]
        }
      ],
      "source": [
        "seed(1)\n",
        "bounds = asarray([[0, 5.0]])\n",
        "n_iterations = 10000\n",
        "step_size = 0.001\n",
        "temp = 100\n",
        "print('Starting simulated annealing algorithm\\n')\n",
        "best, score,best_track = simulated_annealing(objective, bounds, n_iterations, step_size, temp)\n",
        "print('\\nSimulated annealing completed\\n')\n",
        "print(f'Best solution: {best}')\n",
        "print(f'Fitness score of the best solution: {score:.5f}')"
      ]
    },
    {
      "cell_type": "code",
      "source": [
        "import matplotlib.pyplot as plt\n",
        "import numpy as np"
      ],
      "metadata": {
        "id": "6Q7tWWaXzz5_"
      },
      "execution_count": 60,
      "outputs": []
    },
    {
      "cell_type": "code",
      "source": [
        "def plot_optimization(fitness,minx,maxx,best_pos_track,levels):\n",
        "    x = np.linspace(minx,maxx,300)\n",
        "    X1,X2 = np.meshgrid(x,x)\n",
        "    X = np.dstack([X1,X2])\n",
        "    Y = np.apply_along_axis(fitness,-1,X)\n",
        "    plt.figure(figsize=(10,10))\n",
        "    plt.contourf(X1,X2,Y,levels=levels,cmap=\"magma\")\n",
        "    x,y = np.array(best_pos_track).T\n",
        "    plt.plot(x,y,\"r\")\n",
        "    plt.plot(*best_pos_track[0],\"o\",label=\"start\")\n",
        "    plt.plot(*best_pos_track[-1],\"X\",label=\"end\")\n",
        "    plt.legend()\n",
        "    plt.show()"
      ],
      "metadata": {
        "id": "eAa_oBeuyJP9"
      },
      "execution_count": 65,
      "outputs": []
    },
    {
      "cell_type": "code",
      "source": [
        "plot_optimization(objective,0,5,best_track,25)"
      ],
      "metadata": {
        "colab": {
          "base_uri": "https://localhost:8080/",
          "height": 596
        },
        "id": "nL7Sj3EjyMCo",
        "outputId": "45ddafd3-4ed8-4eb4-f699-302590f624ac"
      },
      "execution_count": 66,
      "outputs": [
        {
          "output_type": "display_data",
          "data": {
            "text/plain": [
              "<Figure size 720x720 with 1 Axes>"
            ],
            "image/png": "[encoded data removed]"
          },
          "metadata": {
            "needs_background": "light"
          }
        }
      ]
    }
  ],
  "metadata": {
    "colab": {
      "provenance": [],
      "authorship_tag": "ABX9TyP4Aw3m7mArBlNRS9WN0yZU",
      "include_colab_link": true
    },
    "kernelspec": {
      "display_name": "Python 3",
      "name": "python3"
    },
    "language_info": {
      "name": "python"
    }
  },
  "nbformat": 4,
  "nbformat_minor": 0
}