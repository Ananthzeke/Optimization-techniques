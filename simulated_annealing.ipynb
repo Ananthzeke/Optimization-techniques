{
  "cells": [
    {
      "cell_type": "markdown",
      "metadata": {
        "id": "view-in-github",
        "colab_type": "text"
      },
      "source": [
        "<a href=\"https://colab.research.google.com/github/Ananthzeke/Optimization-techniques/blob/main/simulated_annealing.ipynb\" target=\"_parent\"><img src=\"https://colab.research.google.com/assets/colab-badge.svg\" alt=\"Open In Colab\"/></a>"
      ]
    },
    {
      "cell_type": "code",
      "execution_count": 6,
      "metadata": {
        "id": "l0wSEhzGZObH"
      },
      "outputs": [],
      "source": [
        "from numpy import asarray,exp\n",
        "from numpy.random import rand,randn,seed,uniform"
      ]
    },
    {
      "cell_type": "code",
      "execution_count": 7,
      "metadata": {
        "id": "Zwwgnssa1J0h"
      },
      "outputs": [],
      "source": [
        "def objective(x):\n",
        "\treturn x[0]**2.0"
      ]
    },
    {
      "cell_type": "code",
      "execution_count": 10,
      "metadata": {
        "id": "AyprJz4d0KNj"
      },
      "outputs": [],
      "source": [
        "\n",
        "\n",
        "def simulated_annealing(objective, bounds, n_iterations, step_size, temp):\n",
        "    best =uniform(bounds[0][0],bounds[0][1],1)\n",
        "    best_eval = objective(best)\n",
        "    curr, curr_eval = best, best_eval\n",
        "    for i in range(n_iterations):\n",
        "        candidate = curr + randn() * step_size\n",
        "        candidate_eval = objective(candidate)\n",
        "        if candidate_eval < best_eval:\n",
        "            best, best_eval = candidate, candidate_eval\n",
        "            print(f'>iteration {i}: f{best} = {best_eval}')\n",
        "        diff = candidate_eval - curr_eval\n",
        "        t = temp / float(i + 1)\n",
        "        metropolis = exp(-diff / t)\n",
        "        if diff < 0 or rand() < metropolis:\n",
        "            curr, curr_eval = candidate, candidate_eval\n",
        "    return [best, best_eval]\n",
        "\n"
      ]
    },
    {
      "cell_type": "code",
      "execution_count": 11,
      "metadata": {
        "colab": {
          "base_uri": "https://localhost:8080/"
        },
        "id": "MjVRXbVm129e",
        "outputId": "ce9f9c25-f8ce-4251-8256-28e7b7ff0f23"
      },
      "outputs": [
        {
          "output_type": "stream",
          "name": "stdout",
          "text": [
            "Starting simulated annealing algorithm\n",
            "\n",
            ">iteration 34: f[-0.78753544] = 0.620212074927357 \n",
            ">iteration 35: f[-0.76914239] = 0.5915800096605437 \n",
            ">iteration 37: f[-0.68574854] = 0.4702510587821341 \n",
            ">iteration 39: f[-0.64797564] = 0.41987243424462484 \n",
            ">iteration 40: f[-0.58914623] = 0.3470932766205195 \n",
            ">iteration 41: f[-0.55446029] = 0.3074262169269164 \n",
            ">iteration 42: f[-0.41775702] = 0.17452093022677673 \n",
            ">iteration 43: f[-0.35038542] = 0.12276993937882402 \n",
            ">iteration 50: f[-0.15799045] = 0.024960980913227116 \n",
            ">iteration 66: f[-0.11089772] = 0.01229830482211027 \n",
            ">iteration 67: f[-0.09238208] = 0.008534448816025463 \n",
            ">iteration 72: f[-0.09145261] = 0.008363579590700372 \n",
            ">iteration 75: f[-0.05129162] = 0.0026308307896891012 \n",
            ">iteration 93: f[-0.02854417] = 0.000814769531943319 \n",
            ">iteration 144: f[0.00864136] = 7.467310224989655e-05 \n",
            ">iteration 149: f[0.00753953] = 5.68444833630459e-05 \n",
            ">iteration 167: f[-0.00640394] = 4.101041076746021e-05 \n",
            ">iteration 225: f[-0.00044965] = 2.021847273193589e-07 \n",
            ">iteration 503: f[-0.00036261] = 1.3148362493972114e-07 \n",
            ">iteration 512: f[0.00013605] = 1.8508642324200503e-08 \n",
            "\n",
            "Simulated annealing completed\n",
            "\n",
            "Best solution: [0.00013605]\n",
            "Fitness score of the best solution: 0.00000\n"
          ]
        }
      ],
      "source": [
        "seed(1)\n",
        "bounds = asarray([[-5.0, 5.0]])\n",
        "n_iterations = 1000\n",
        "step_size = 0.1\n",
        "temp = 10\n",
        "print('Starting simulated annealing algorithm\\n')\n",
        "best, score = simulated_annealing(objective, bounds, n_iterations, step_size, temp)\n",
        "print('\\nSimulated annealing completed\\n')\n",
        "print(f'Best solution: {best}')\n",
        "print(f'Fitness score of the best solution: {score:.5f}')"
      ]
    },
    {
      "cell_type": "code",
      "source": [],
      "metadata": {
        "id": "6Q7tWWaXzz5_"
      },
      "execution_count": null,
      "outputs": []
    }
  ],
  "metadata": {
    "colab": {
      "provenance": [],
      "authorship_tag": "ABX9TyM7w6Xp23W5LL8ncTUt9lHY",
      "include_colab_link": true
    },
    "kernelspec": {
      "display_name": "Python 3",
      "name": "python3"
    },
    "language_info": {
      "name": "python"
    }
  },
  "nbformat": 4,
  "nbformat_minor": 0
}