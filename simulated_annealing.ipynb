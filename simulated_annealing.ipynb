{
  "cells": [
    {
      "cell_type": "markdown",
      "metadata": {
        "id": "view-in-github",
        "colab_type": "text"
      },
      "source": [
        "<a href=\"https://colab.research.google.com/github/Ananthzeke/Optimization-techniques/blob/main/simulated_annealing.ipynb\" target=\"_parent\"><img src=\"https://colab.research.google.com/assets/colab-badge.svg\" alt=\"Open In Colab\"/></a>"
      ]
    },
    {
      "cell_type": "code",
      "execution_count": 2,
      "metadata": {
        "id": "l0wSEhzGZObH"
      },
      "outputs": [],
      "source": [
        "from numpy import asarray,exp\n",
        "from numpy.random import rand,randn,seed,uniform"
      ]
    },
    {
      "cell_type": "code",
      "execution_count": 44,
      "metadata": {
        "id": "Zwwgnssa1J0h"
      },
      "outputs": [],
      "source": [
        "def objective(x):\n",
        "\treturn  (x[0]**2+x[1]-11)**2 +(x[0]+x[1]**2-7)**2"
      ]
    },
    {
      "cell_type": "code",
      "execution_count": 45,
      "metadata": {
        "id": "AyprJz4d0KNj"
      },
      "outputs": [],
      "source": [
        "\n",
        "\n",
        "def simulated_annealing(objective, bounds, n_iterations, step_size, temp):\n",
        "    best =uniform(bounds[0][0],bounds[0][1],2)\n",
        "    best_eval = objective(best)\n",
        "    curr, curr_eval = best, best_eval\n",
        "    best_track = []\n",
        "    for i in range(n_iterations):\n",
        "        candidate = curr + randn(2) * step_size\n",
        "        candidate_eval = objective(candidate)\n",
        "        if candidate_eval < best_eval:\n",
        "            best, best_eval = candidate, candidate_eval\n",
        "            print(f'>iteration {i}: f{best} = {best_eval}')\n",
        "            best_track.append(best)\n",
        "        diff = candidate_eval - curr_eval\n",
        "        t = temp / float(i + 1)\n",
        "        metropolis = exp(-diff / t)\n",
        "        if diff < 0 or rand() < metropolis:\n",
        "            curr, curr_eval = candidate, candidate_eval\n",
        "    return best, best_eval,best_track\n",
        "\n"
      ]
    },
    {
      "cell_type": "code",
      "execution_count": 46,
      "metadata": {
        "colab": {
          "base_uri": "https://localhost:8080/"
        },
        "id": "MjVRXbVm129e",
        "outputId": "37736a87-12ef-4b41-9c9b-6cd585582615"
      },
      "outputs": [
        {
          "output_type": "stream",
          "name": "stdout",
          "text": [
            "Starting simulated annealing algorithm\n",
            "\n",
            ">iteration 0: f[2.03229285 3.4943256 ] = 63.849048170775774\n",
            ">iteration 1: f[2.11883361 3.26417174] = 43.873976449973725\n",
            ">iteration 2: f[2.29331479 3.18805105] = 36.29473103187055\n",
            ">iteration 3: f[2.3252187  3.16311401] = 34.32041128640973\n",
            ">iteration 4: f[2.47142949 2.95709994] = 21.517534484882944\n",
            ">iteration 5: f[2.43918777 2.9186945 ] = 20.20950048216406\n",
            ">iteration 6: f[2.55256471 2.80870537] = 14.651166540884514\n",
            ">iteration 7: f[2.53532189 2.72091953] = 12.063132543688804\n",
            ">iteration 9: f[2.64951615 2.60796002] = 7.889931628759002\n",
            ">iteration 11: f[2.63722712 2.51438307] = 6.18193942917511\n",
            ">iteration 15: f[2.66479893 2.40531558] = 4.334127003123745\n",
            ">iteration 18: f[2.8690018  2.45006765] = 3.6053685203030725\n",
            ">iteration 20: f[2.96735726 2.41713127] = 3.325103810228632\n",
            ">iteration 21: f[2.85310544 2.38219699] = 2.5627805487997386\n",
            ">iteration 32: f[2.83087262 2.36212119] = 2.3789042559639886\n",
            ">iteration 38: f[2.80312656 2.33598894] = 2.2379568694679657\n",
            ">iteration 39: f[2.84547599 2.34372295] = 2.104706533679607\n",
            ">iteration 41: f[2.91395964 2.28417691] = 1.3305929792196\n",
            ">iteration 42: f[3.01386477 2.25335984] = 1.3047563211590514\n",
            ">iteration 44: f[3.08792041 2.15798978] = 1.0353718671701617\n",
            ">iteration 45: f[3.06129856 2.16125123] = 0.8201472278519972\n",
            ">iteration 46: f[2.92398683 2.19276717] = 0.6024620510596073\n",
            ">iteration 47: f[3.00860289 2.10681558] = 0.22517917299227616\n",
            ">iteration 48: f[3.04365749 1.97558724] = 0.06018193321190104\n",
            ">iteration 50: f[3.01123812 2.00666266] = 0.006947190587957861\n",
            ">iteration 405: f[3.00162052 1.99731044] = 0.0001328735324823181\n",
            "\n",
            "Simulated annealing completed\n",
            "\n",
            "Best solution: [3.00162052 1.99731044]\n",
            "Fitness score of the best solution: 0.00013\n"
          ]
        }
      ],
      "source": [
        "seed(1)\n",
        "bounds = asarray([[0, 5.0]])\n",
        "n_iterations = 1000\n",
        "step_size = 0.1\n",
        "temp = 10\n",
        "print('Starting simulated annealing algorithm\\n')\n",
        "best, score,best_track = simulated_annealing(objective, bounds, n_iterations, step_size, temp)\n",
        "print('\\nSimulated annealing completed\\n')\n",
        "print(f'Best solution: {best}')\n",
        "print(f'Fitness score of the best solution: {score:.5f}')"
      ]
    },
    {
      "cell_type": "code",
      "source": [
        "import matplotlib.pyplot as plt\n",
        "import numpy as np"
      ],
      "metadata": {
        "id": "6Q7tWWaXzz5_"
      },
      "execution_count": 47,
      "outputs": []
    },
    {
      "cell_type": "code",
      "source": [
        "def plot_optimization(fitness,minx,maxx,best_pos_track,levels):\n",
        "    x = np.linspace(minx,maxx,300)\n",
        "    X1,X2 = np.meshgrid(x,x)\n",
        "    X = np.dstack([X1,X2])\n",
        "    Y = np.apply_along_axis(fitness,-1,X)\n",
        "    plt.figure(figsize=(10,10))\n",
        "    plt.contourf(X1,X2,Y,levels=levels,cmap=\"Blues\")\n",
        "    x,y = np.array(best_pos_track).T\n",
        "    plt.plot(x,y,\"r\")\n",
        "    plt.plot(*best_pos_track[0],\"o\",label=\"start\")\n",
        "    plt.plot(*best_pos_track[-1],\"X\",label=\"end\")\n",
        "    plt.legend()\n",
        "    plt.show()"
      ],
      "metadata": {
        "id": "eAa_oBeuyJP9"
      },
      "execution_count": 48,
      "outputs": []
    },
    {
      "cell_type": "code",
      "source": [
        "plot_optimization(objective,0,5,best_track,25)"
      ],
      "metadata": {
        "colab": {
          "base_uri": "https://localhost:8080/",
          "height": 596
        },
        "id": "nL7Sj3EjyMCo",
        "outputId": "60aa8585-f2a6-4fbc-b776-af32519921a0"
      },
      "execution_count": 53,
      "outputs": [
        {
          "output_type": "display_data",
          "data": {
            "text/plain": [
              "<Figure size 720x720 with 1 Axes>"
            ],
            "image/png": "[encoded data removed]"
          },
          "metadata": {
            "needs_background": "light"
          }
        }
      ]
    }
  ],
  "metadata": {
    "colab": {
      "provenance": [],
      "authorship_tag": "ABX9TyPnYKbzrADZ8JlJcNjzI4BB",
      "include_colab_link": true
    },
    "kernelspec": {
      "display_name": "Python 3",
      "name": "python3"
    },
    "language_info": {
      "name": "python"
    }
  },
  "nbformat": 4,
  "nbformat_minor": 0
}