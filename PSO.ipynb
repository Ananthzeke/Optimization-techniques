{
  "nbformat": 4,
  "nbformat_minor": 0,
  "metadata": {
    "colab": {
      "provenance": [],
      "authorship_tag": "ABX9TyMIFRoEpNXIwC2UQxGS15jN",
      "include_colab_link": true
    },
    "kernelspec": {
      "name": "python3",
      "display_name": "Python 3"
    },
    "language_info": {
      "name": "python"
    }
  },
  "cells": [
    {
      "cell_type": "markdown",
      "metadata": {
        "id": "view-in-github",
        "colab_type": "text"
      },
      "source": [
        "<a href=\"https://colab.research.google.com/github/Ananthzeke/Optimization-techniques/blob/main/PSO.ipynb\" target=\"_parent\"><img src=\"https://colab.research.google.com/assets/colab-badge.svg\" alt=\"Open In Colab\"/></a>"
      ]
    },
    {
      "cell_type": "markdown",
      "source": [
        "### Particle Swarm Optimization"
      ],
      "metadata": {
        "id": "ck_DsYjzwYRN"
      }
    },
    {
      "cell_type": "code",
      "execution_count": 20,
      "metadata": {
        "id": "La4C_2JPrOjr"
      },
      "outputs": [],
      "source": [
        "import numpy as np\n",
        "\n",
        "class Particle:\n",
        "    def __init__(self, dim, minx, maxx, seed):\n",
        "        np.random.seed(seed)\n",
        "\n",
        "        # initialize position and velocity of the particle with random values\n",
        "        self.pos = (maxx - minx) *np.random.rand(dim) + minx\n",
        "        self.vel = (maxx - minx) *np.random.rand(dim) + minx\n",
        "        \n",
        "        # compute fitness of particle\n",
        "        self.fitness = self.fitness_func(self.pos) # curr fitness\n",
        "        \n",
        "        # initialize best position and fitness of this particle\n",
        "        self.best_pos = np.copy(self.pos)\n",
        "        self.best_fitness = self.fitness # best fitness\n",
        "    def fitness_func(self,x):\n",
        "      x = np.array(x)\n",
        "      return np.sum(x**2)"
      ]
    },
    {
      "cell_type": "code",
      "source": [
        "def pso(max_iter, n, dim, minx, maxx, w, c1, c2):\n",
        "    \n",
        "    # create n random particles\n",
        "    swarm = [Particle(dim, minx, maxx, i) for i in range(n)]\n",
        "\n",
        "    # compute the value of best_position and best_fitness in swarm\n",
        "    best_particle = min(swarm,key=lambda x: x.fitness)\n",
        "    swarm_best_pos = np.copy(best_particle.pos)\n",
        "    swarm_best_fitness  = best_particle.fitness\n",
        "\n",
        "    # main loop of pso\n",
        "    for iter in range(max_iter):\n",
        "        if iter % 10 == 0:\n",
        "            print(f\"{iter} > best fitness = {swarm_best_fitness:.4e} Best position: {swarm_best_pos}\")\n",
        "\n",
        "        for particle in swarm:\n",
        "        \n",
        "            # compute new velocity of curr particle\n",
        "            r1,r2 = np.random.rand(2) # randomizations\n",
        "            particle.vel = (\n",
        "                (w * particle.vel) +\n",
        "                (c1 * r1 * (particle.best_pos - particle.pos)) +\n",
        "                (c2 * r2 * (swarm_best_pos - particle.pos))\n",
        "            )\n",
        "                                \n",
        "            # if velocity is not in [minx, max] then clip it\n",
        "            particle.vel = np.clip(particle.vel,minx,maxx)\n",
        "\n",
        "            # compute new position using new velocity\n",
        "            particle.pos += particle.vel\n",
        "\n",
        "            # compute fitness of new position\n",
        "            particle.fitness = particle.fitness_func(particle.pos)\n",
        "\n",
        "            # is new position a new best for the particle?\n",
        "            if particle.fitness < particle.best_fitness:\n",
        "                particle.best_fitness = particle.fitness\n",
        "                particle.best_pos = np.copy(particle.pos)\n",
        "\n",
        "            # is new position a new best overall?\n",
        "            if particle.fitness < swarm_best_fitness:\n",
        "                swarm_best_fitness = particle.fitness\n",
        "                swarm_best_pos = np.copy(particle.pos)\n",
        "    \n",
        "    print(\"\\nBest solution found:\")\n",
        "    print(swarm_best_pos)\n",
        "    print(f\"fitness of best solution = {swarm_best_fitness:.4e}\")\n",
        "\n",
        "    return swarm_best_pos"
      ],
      "metadata": {
        "id": "RoStSLi5rXnr"
      },
      "execution_count": 21,
      "outputs": []
    },
    {
      "cell_type": "code",
      "source": [
        "np.set_printoptions(precision=6,suppress=True)        \n",
        "\n",
        "# hyper parameters and setup\n",
        "w = 0.729 # inertia\n",
        "c1 = 1.49445 # cognitive (particle)\n",
        "c2 = 1.49445 # social (swarm)\n",
        "\n",
        "dim = 3\n",
        "num_particles = 200\n",
        "max_iter = 100"
      ],
      "metadata": {
        "id": "LSBjFwcErnu5"
      },
      "execution_count": 18,
      "outputs": []
    },
    {
      "cell_type": "code",
      "source": [
        "best_position = pso(max_iter, num_particles, dim, -10.0, 10.0, w,c1,c2)"
      ],
      "metadata": {
        "colab": {
          "base_uri": "https://localhost:8080/"
        },
        "id": "DslphCFarp_M",
        "outputId": "8bbf8275-ab2e-48a0-974c-46c110f3ca03"
      },
      "execution_count": 19,
      "outputs": [
        {
          "output_type": "stream",
          "name": "stdout",
          "text": [
            "0 > best fitness = 4.0830e-01 Best position: [ 0.013363 -0.638651  0.015651]\n",
            "10 > best fitness = 1.1150e-02 Best position: [ 0.083723  0.034064 -0.054586]\n",
            "20 > best fitness = 1.0710e-04 Best position: [ 0.000179  0.009989 -0.002699]\n",
            "30 > best fitness = 1.3853e-05 Best position: [-0.003501 -0.000276  0.001233]\n",
            "40 > best fitness = 1.4855e-06 Best position: [-0.000111  0.000444 -0.00113 ]\n",
            "50 > best fitness = 1.1132e-07 Best position: [ 0.000019 -0.000162  0.000291]\n",
            "60 > best fitness = 5.8618e-09 Best position: [0.000012 0.000072 0.000023]\n",
            "70 > best fitness = 3.1204e-10 Best position: [-0.000004  0.000016 -0.000006]\n",
            "80 > best fitness = 5.1872e-11 Best position: [ 0.        0.000003 -0.000007]\n",
            "90 > best fitness = 8.8321e-12 Best position: [0.       0.000003 0.000002]\n",
            "\n",
            "Best solution found:\n",
            "[ 0.000001  0.       -0.      ]\n",
            "fitness of best solution = 7.8366e-13\n"
          ]
        }
      ]
    }
  ]
}